{
 "cells": [
  {
   "cell_type": "markdown",
   "metadata": {},
   "source": [
    "# 2022 NZMSA Data Science Submission."
   ]
  },
  {
   "cell_type": "code",
   "execution_count": 6,
   "metadata": {},
   "outputs": [],
   "source": [
    "import pandas as pd\n",
    "import seaborn as sns\n",
    "\n",
    "import matplotlib.pyplot as plt\n",
    "\n",
    "%matplotlib inline"
   ]
  },
  {
   "cell_type": "code",
   "execution_count": 2,
   "metadata": {},
   "outputs": [
    {
     "name": "stdout",
     "output_type": "stream",
     "text": [
      "Looking in indexes: https://pypi.org/simple, https://pypi.ngc.nvidia.com\n",
      "Collecting ipykernel==6.15.0\n",
      "  Downloading ipykernel-6.15.0-py3-none-any.whl (133 kB)\n",
      "Collecting matplotlib==3.5.2\n",
      "  Downloading matplotlib-3.5.2-cp38-cp38-win_amd64.whl (7.2 MB)\n",
      "Collecting pandas==1.4.2\n",
      "  Downloading pandas-1.4.2-cp38-cp38-win_amd64.whl (10.6 MB)\n",
      "Collecting scikit-learn==1.1.1\n",
      "  Downloading scikit_learn-1.1.1-cp38-cp38-win_amd64.whl (7.3 MB)\n",
      "Collecting seaborn==0.11.2\n",
      "  Downloading seaborn-0.11.2-py3-none-any.whl (292 kB)\n",
      "Collecting traitlets>=5.1.0\n",
      "  Downloading traitlets-5.3.0-py3-none-any.whl (106 kB)\n",
      "Collecting debugpy>=1.0"
     ]
    },
    {
     "name": "stderr",
     "output_type": "stream",
     "text": [
      "ERROR: jupyter-client 7.3.4 has requirement python-dateutil>=2.8.2, but you'll have python-dateutil 2.8.1 which is incompatible.\n",
      "WARNING: You are using pip version 20.1.1; however, version 22.2.2 is available.\n",
      "You should consider upgrading via the 'c:\\users\\benan\\appdata\\local\\programs\\python\\python38\\python.exe -m pip install --upgrade pip' command.\n"
     ]
    },
    {
     "name": "stdout",
     "output_type": "stream",
     "text": [
      "\n",
      "  Downloading debugpy-1.6.2-cp38-cp38-win_amd64.whl (4.6 MB)\n",
      "Requirement already satisfied: psutil in c:\\users\\benan\\appdata\\local\\programs\\python\\python38\\lib\\site-packages (from ipykernel==6.15.0) (5.7.0)\n",
      "Collecting ipython>=7.23.1\n",
      "  Downloading ipython-8.4.0-py3-none-any.whl (750 kB)\n",
      "Collecting pyzmq>=17\n",
      "  Downloading pyzmq-23.2.0-cp38-cp38-win_amd64.whl (991 kB)\n",
      "Collecting matplotlib-inline>=0.1\n",
      "  Downloading matplotlib_inline-0.1.3-py3-none-any.whl (8.2 kB)\n",
      "Collecting jupyter-client>=6.1.12\n",
      "  Downloading jupyter_client-7.3.4-py3-none-any.whl (132 kB)\n",
      "Collecting packaging\n",
      "  Downloading packaging-21.3-py3-none-any.whl (40 kB)\n",
      "Collecting tornado>=6.1\n",
      "  Downloading tornado-6.2-cp37-abi3-win_amd64.whl (425 kB)\n",
      "Collecting nest-asyncio\n",
      "  Downloading nest_asyncio-1.5.5-py3-none-any.whl (5.2 kB)\n",
      "Requirement already satisfied: python-dateutil>=2.7 in c:\\users\\benan\\appdata\\local\\programs\\python\\python38\\lib\\site-packages (from matplotlib==3.5.2) (2.8.1)\n",
      "Requirement already satisfied: numpy>=1.17 in c:\\users\\benan\\appdata\\local\\programs\\python\\python38\\lib\\site-packages (from matplotlib==3.5.2) (1.19.2)\n",
      "Collecting fonttools>=4.22.0\n",
      "  Downloading fonttools-4.34.4-py3-none-any.whl (944 kB)\n",
      "Requirement already satisfied: kiwisolver>=1.0.1 in c:\\users\\benan\\appdata\\local\\programs\\python\\python38\\lib\\site-packages (from matplotlib==3.5.2) (1.2.0)\n",
      "Requirement already satisfied: cycler>=0.10 in c:\\users\\benan\\appdata\\local\\programs\\python\\python38\\lib\\site-packages (from matplotlib==3.5.2) (0.10.0)\n",
      "Requirement already satisfied: pillow>=6.2.0 in c:\\users\\benan\\appdata\\local\\programs\\python\\python38\\lib\\site-packages (from matplotlib==3.5.2) (7.2.0)\n",
      "Requirement already satisfied: pyparsing>=2.2.1 in c:\\users\\benan\\appdata\\local\\programs\\python\\python38\\lib\\site-packages (from matplotlib==3.5.2) (2.4.7)\n",
      "Requirement already satisfied: pytz>=2020.1 in c:\\users\\benan\\appdata\\local\\programs\\python\\python38\\lib\\site-packages (from pandas==1.4.2) (2020.1)\n",
      "Collecting threadpoolctl>=2.0.0\n",
      "  Downloading threadpoolctl-3.1.0-py3-none-any.whl (14 kB)\n",
      "Requirement already satisfied: scipy>=1.3.2 in c:\\users\\benan\\appdata\\local\\programs\\python\\python38\\lib\\site-packages (from scikit-learn==1.1.1) (1.5.2)\n",
      "Collecting joblib>=1.0.0\n",
      "  Downloading joblib-1.1.0-py2.py3-none-any.whl (306 kB)\n",
      "Requirement already satisfied: prompt-toolkit!=3.0.0,!=3.0.1,<3.1.0,>=2.0.0 in c:\\users\\benan\\appdata\\local\\programs\\python\\python38\\lib\\site-packages (from ipython>=7.23.1->ipykernel==6.15.0) (3.0.8)\n",
      "Requirement already satisfied: colorama; sys_platform == \"win32\" in c:\\users\\benan\\appdata\\local\\programs\\python\\python38\\lib\\site-packages (from ipython>=7.23.1->ipykernel==6.15.0) (0.4.4)\n",
      "Requirement already satisfied: decorator in c:\\users\\benan\\appdata\\local\\programs\\python\\python38\\lib\\site-packages (from ipython>=7.23.1->ipykernel==6.15.0) (4.4.2)\n",
      "Collecting stack-data\n",
      "  Downloading stack_data-0.3.0-py3-none-any.whl (23 kB)\n",
      "Collecting pickleshare\n",
      "  Downloading pickleshare-0.7.5-py2.py3-none-any.whl (6.9 kB)\n",
      "Collecting backcall\n",
      "  Downloading backcall-0.2.0-py2.py3-none-any.whl (11 kB)\n",
      "Requirement already satisfied: pygments>=2.4.0 in c:\\users\\benan\\appdata\\local\\programs\\python\\python38\\lib\\site-packages (from ipython>=7.23.1->ipykernel==6.15.0) (2.7.2)\n",
      "Requirement already satisfied: setuptools>=18.5 in c:\\users\\benan\\appdata\\local\\programs\\python\\python38\\lib\\site-packages (from ipython>=7.23.1->ipykernel==6.15.0) (47.1.0)\n",
      "Collecting jedi>=0.16\n",
      "  Downloading jedi-0.18.1-py2.py3-none-any.whl (1.6 MB)\n",
      "Collecting entrypoints\n",
      "  Downloading entrypoints-0.4-py3-none-any.whl (5.3 kB)\n",
      "Collecting jupyter-core>=4.9.2\n",
      "  Downloading jupyter_core-4.11.1-py3-none-any.whl (88 kB)\n",
      "Requirement already satisfied: six>=1.5 in c:\\users\\benan\\appdata\\local\\programs\\python\\python38\\lib\\site-packages (from python-dateutil>=2.7->matplotlib==3.5.2) (1.15.0)\n",
      "Requirement already satisfied: wcwidth in c:\\users\\benan\\appdata\\local\\programs\\python\\python38\\lib\\site-packages (from prompt-toolkit!=3.0.0,!=3.0.1,<3.1.0,>=2.0.0->ipython>=7.23.1->ipykernel==6.15.0) (0.2.5)\n",
      "Collecting executing\n",
      "  Downloading executing-0.9.1-py2.py3-none-any.whl (16 kB)\n",
      "Collecting asttokens\n",
      "  Downloading asttokens-2.0.5-py2.py3-none-any.whl (20 kB)\n",
      "Collecting pure-eval\n",
      "  Downloading pure_eval-0.2.2-py3-none-any.whl (11 kB)\n",
      "Collecting parso<0.9.0,>=0.8.0\n",
      "  Downloading parso-0.8.3-py2.py3-none-any.whl (100 kB)\n",
      "Collecting pywin32>=1.0; sys_platform == \"win32\" and platform_python_implementation != \"PyPy\"\n",
      "  Downloading pywin32-304-cp38-cp38-win_amd64.whl (12.3 MB)\n",
      "Installing collected packages: traitlets, debugpy, matplotlib-inline, executing, asttokens, pure-eval, stack-data, pickleshare, backcall, parso, jedi, ipython, pyzmq, tornado, nest-asyncio, entrypoints, pywin32, jupyter-core, jupyter-client, packaging, ipykernel, fonttools, matplotlib, pandas, threadpoolctl, joblib, scikit-learn, seaborn\n",
      "  Attempting uninstall: matplotlib\n",
      "    Found existing installation: matplotlib 3.3.2\n",
      "    Uninstalling matplotlib-3.3.2:\n",
      "      Successfully uninstalled matplotlib-3.3.2\n",
      "  Attempting uninstall: pandas\n",
      "    Found existing installation: pandas 1.3.0\n",
      "    Uninstalling pandas-1.3.0:\n",
      "      Successfully uninstalled pandas-1.3.0\n",
      "  Attempting uninstall: seaborn\n",
      "    Found existing installation: seaborn 0.11.1\n",
      "    Uninstalling seaborn-0.11.1:\n",
      "      Successfully uninstalled seaborn-0.11.1\n",
      "Successfully installed asttokens-2.0.5 backcall-0.2.0 debugpy-1.6.2 entrypoints-0.4 executing-0.9.1 fonttools-4.34.4 ipykernel-6.15.0 ipython-8.4.0 jedi-0.18.1 joblib-1.1.0 jupyter-client-7.3.4 jupyter-core-4.11.1 matplotlib-3.5.2 matplotlib-inline-0.1.3 nest-asyncio-1.5.5 packaging-21.3 pandas-1.4.2 parso-0.8.3 pickleshare-0.7.5 pure-eval-0.2.2 pywin32-304 pyzmq-23.2.0 scikit-learn-1.1.1 seaborn-0.11.2 stack-data-0.3.0 threadpoolctl-3.1.0 tornado-6.2 traitlets-5.3.0\n"
     ]
    }
   ],
   "source": [
    "!pip install ipykernel==6.15.0 matplotlib==3.5.2 pandas==1.4.2 scikit-learn==1.1.1 seaborn==0.11.2\n"
   ]
  },
  {
   "cell_type": "markdown",
   "metadata": {},
   "source": [
    "# Exploratory Data Analysis."
   ]
  },
  {
   "cell_type": "code",
   "execution_count": null,
   "metadata": {},
   "outputs": [],
   "source": [
    "dataset = pd.read_csv(\"weather-data.csv\")\n",
    "dataset.head() # Show the first five results."
   ]
  },
  {
   "cell_type": "markdown",
   "metadata": {},
   "source": [
    "# Data Processing"
   ]
  },
  {
   "cell_type": "code",
   "execution_count": null,
   "metadata": {},
   "outputs": [],
   "source": [
    "# An exhaustive list of what you can do with Pandas dataframe is in this link: https://pandas.pydata.org/docs/reference/frame.html"
   ]
  },
  {
   "cell_type": "markdown",
   "metadata": {},
   "source": [
    "# Data Modelling"
   ]
  },
  {
   "cell_type": "code",
   "execution_count": null,
   "metadata": {},
   "outputs": [],
   "source": [
    "# An exhaustive list of models can be found in sci-kit learn in this link: https://scikit-learn.org/stable/supervised_learning.html\n",
    "# The url takes you to supervised learning which is what you will be dealing with for this phase."
   ]
  },
  {
   "cell_type": "markdown",
   "metadata": {},
   "source": [
    "# Conclusion\n",
    "\n",
    "* Comment on your model performance.\n",
    "* Anything interesting about the data analysis."
   ]
  }
 ],
 "metadata": {
  "kernelspec": {
   "display_name": "Python 3",
   "language": "python",
   "name": "python3"
  },
  "language_info": {
   "codemirror_mode": {
    "name": "ipython",
    "version": 3
   },
   "file_extension": ".py",
   "mimetype": "text/x-python",
   "name": "python",
   "nbconvert_exporter": "python",
   "pygments_lexer": "ipython3",
   "version": "3.8.3"
  },
  "vscode": {
   "interpreter": {
    "hash": "c1a2242e7081b4f0929018da2a8cc567af1f3cf95e7af08c98cfb4addbb6241a"
   }
  }
 },
 "nbformat": 4,
 "nbformat_minor": 2
}
